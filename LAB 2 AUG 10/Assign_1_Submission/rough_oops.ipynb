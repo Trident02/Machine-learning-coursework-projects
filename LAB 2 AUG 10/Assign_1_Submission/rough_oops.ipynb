{
 "cells": [
  {
   "cell_type": "code",
   "execution_count": 9,
   "metadata": {},
   "outputs": [
    {
     "name": "stdout",
     "output_type": "stream",
     "text": [
      "2\n",
      "HELLO\n",
      "str dddd\n"
     ]
    },
    {
     "data": {
      "text/plain": [
       "3"
      ]
     },
     "execution_count": 9,
     "metadata": {},
     "output_type": "execute_result"
    }
   ],
   "source": [
    "x=2\n",
    "print(x)\n",
    "x=\"HELLO\"\n",
    "print(x)\n",
    "print(\"str dddd\")\n"
   ]
  },
  {
   "cell_type": "code",
   "execution_count": 14,
   "metadata": {},
   "outputs": [
    {
     "name": "stdout",
     "output_type": "stream",
     "text": [
      "7\n",
      "7\n"
     ]
    },
    {
     "data": {
      "text/plain": [
       "7"
      ]
     },
     "execution_count": 14,
     "metadata": {},
     "output_type": "execute_result"
    }
   ],
   "source": [
    "def add_numbers(a,b):\n",
    "    c = a+b\n",
    "    return c\n",
    "print(add_numbers(3,4)) \n",
    "print(add_numbers(3,4))\n",
    "add_numbers(3,4)"
   ]
  },
  {
   "cell_type": "code",
   "execution_count": 16,
   "metadata": {},
   "outputs": [
    {
     "name": "stdout",
     "output_type": "stream",
     "text": [
      "[1, 2, 3, 4, 5, 6]\n",
      "[1, 2, 3, 4, 5, 6]\n"
     ]
    }
   ],
   "source": [
    "a = 2\n",
    "b = [1,2,3,\n",
    "     4,5,6]\n",
    "print(b) ; print(b)"
   ]
  },
  {
   "cell_type": "code",
   "execution_count": 26,
   "metadata": {},
   "outputs": [],
   "source": [
    "with open('myfile.txt', 'w') as myfile :\n",
    "    print(\"HELLO\", file = myfile)\n"
   ]
  },
  {
   "cell_type": "code",
   "execution_count": null,
   "metadata": {},
   "outputs": [],
   "source": [
    "with open('myfile.txt', 'w') as myfile :\n",
    "    myfile.write(\"HELLO\")\n"
   ]
  },
  {
   "cell_type": "code",
   "execution_count": 27,
   "metadata": {},
   "outputs": [],
   "source": [
    "myfile = open('myfile.txt', 'w')\n",
    "myfile.write(\"HELLO\")\n",
    "myfile.close()"
   ]
  },
  {
   "cell_type": "code",
   "execution_count": 30,
   "metadata": {},
   "outputs": [
    {
     "name": "stdout",
     "output_type": "stream",
     "text": [
      "HELLO ! WORLD !!!\n"
     ]
    }
   ],
   "source": [
    "with open('myfile.txt', 'r') as myfile :\n",
    "    data = myfile.read()\n",
    "print(data)"
   ]
  },
  {
   "cell_type": "code",
   "execution_count": 31,
   "metadata": {},
   "outputs": [
    {
     "name": "stdout",
     "output_type": "stream",
     "text": [
      "3\n",
      "5\n"
     ]
    }
   ],
   "source": [
    "print(3)\n",
    "print(3+2)"
   ]
  },
  {
   "cell_type": "code",
   "execution_count": 36,
   "metadata": {},
   "outputs": [
    {
     "name": "stdout",
     "output_type": "stream",
     "text": [
      "My number is 3\n",
      "My number is 3\n",
      "My number is 3.500000\n"
     ]
    }
   ],
   "source": [
    "print(\"My number is %d\"%3)\n",
    "print(\"My number is %d\"%3.5)\n",
    "print(\"My number is %f\"%3.5)"
   ]
  },
  {
   "cell_type": "code",
   "execution_count": 38,
   "metadata": {},
   "outputs": [
    {
     "name": "stdout",
     "output_type": "stream",
     "text": [
      "0.375\n",
      "1.5\n",
      "2417851639229258349412352\n",
      "2417851639229258349412352\n"
     ]
    }
   ],
   "source": [
    "print(2/4*3/4)\n",
    "print(2*3/4)\n",
    "print((2*3)/4)\n",
    "print(2**3**4)\n",
    "print(2**(3**4))\n",
    "\n",
    "# Almost all the operators have left-to-right associativity. For example, multiplication and floor division have the same precedence. Hence, if both of them are present in an expression, the left one is evaluated first. Note: Exponent operator ** has right-to-left associativity in Python."
   ]
  },
  {
   "cell_type": "code",
   "execution_count": 55,
   "metadata": {},
   "outputs": [
    {
     "name": "stdout",
     "output_type": "stream",
     "text": [
      "380000.0\n",
      "12.35\n",
      "1.234560e+01\n",
      "1.234560e+05\n",
      "-1.234560e+01\n",
      "1.000000e+00\n",
      "2.250000e-01\n",
      "0.000000e+00\n"
     ]
    }
   ],
   "source": [
    "print(3.8e+005)\n",
    "print(\"%.2f\"%12.3456) # %.2f means to round up to two decimal places.\n",
    "print(\"%e\"%12.3456)\n",
    "print(\"%e\"%123456)\n",
    "print(\"%e\"%-12.3456)\n",
    "print(\"%e\"%1)\n",
    "print(\"%e\"%0.225)\n",
    "print(\"%e\"%0)\n"
   ]
  },
  {
   "cell_type": "code",
   "execution_count": 66,
   "metadata": {},
   "outputs": [
    {
     "name": "stdout",
     "output_type": "stream",
     "text": [
      "Hello ! My name is XYZ\n",
      "Hello ! My name is XYZ and i am 20 years old\n",
      "This is one line \n",
      " This is another line\n",
      "\\\n",
      "\tA\n",
      "'\n",
      "\"\n",
      "\"Hi! I am XYZ\", she said\n",
      "\"Hi! I am XYZ\", she said\n",
      "\"Hello\",said XYZ \n",
      " \"Hi\", said ABC\n",
      "\"Hello\",said XYZ \n",
      " \"Hi\", said ABC\n"
     ]
    }
   ],
   "source": [
    "name='XYZ'\n",
    "age = 20\n",
    "print(\"Hello ! My name is %s\" %name)\n",
    "print(\"Hello ! My name is %s and i am %d years old\" %(name,age))\n",
    "print(\"This is one line \\n This is another line\")\n",
    "print('\\\\')\n",
    "print('\\tA')\n",
    "print('\\'')\n",
    "print('\\\"')\n",
    "print('\"Hi! I am XYZ\", she said')\n",
    "print(\"\\\"Hi! I am XYZ\\\", she said\")\n",
    "# the triple quotes (''' or \"\"\") are used to define a multi-line string. This is useful when you have a string that spans multiple lines and you want to keep the formatting. Both single (''') and double (\"\"\") triple quotes can be used, and they function the same way. \n",
    "string_one = '''\"Hello\",said XYZ \\n \"Hi\", said ABC'''\n",
    "print(string_one)\n",
    "string_two = '\"Hello\",said XYZ \\n \"Hi\", said ABC'\n",
    "print(string_two)"
   ]
  },
  {
   "cell_type": "code",
   "execution_count": 68,
   "metadata": {},
   "outputs": [
    {
     "name": "stdout",
     "output_type": "stream",
     "text": [
      "10\n",
      "jane smith\n"
     ]
    }
   ],
   "source": [
    "name = \"Jane Smith\"\n",
    "print(len(name)) # 10\n",
    "print(name.lower())\n",
    "name = name.lower()\n",
    "print(name) # jane smith"
   ]
  },
  {
   "cell_type": "code",
   "execution_count": 70,
   "metadata": {},
   "outputs": [
    {
     "name": "stdout",
     "output_type": "stream",
     "text": [
      "4\n",
      "3\n",
      "0\n",
      "0\n"
     ]
    }
   ],
   "source": [
    "from ast import Delete\n",
    "\n",
    "\n",
    "a = 0 # global\n",
    "if a==1:\n",
    "    b = 1 # global\n",
    "else:\n",
    "    b =0\n",
    "\n",
    "def my_function(c):\n",
    "    d = 3\n",
    "    print(c)\n",
    "    print(d)\n",
    "my_function(4)\n",
    "print(a)\n",
    "print(b)\n",
    "#print(c) # error\n",
    "#print(d) # error"
   ]
  },
  {
   "cell_type": "code",
   "execution_count": 71,
   "metadata": {},
   "outputs": [
    {
     "name": "stdout",
     "output_type": "stream",
     "text": [
      "0\n"
     ]
    }
   ],
   "source": [
    "# program - 1 : \n",
    "a = 0 # global\n",
    "def my_function():\n",
    "    print(a)\n",
    "my_function() # 0 \n"
   ]
  },
  {
   "cell_type": "code",
   "execution_count": 72,
   "metadata": {},
   "outputs": [
    {
     "name": "stdout",
     "output_type": "stream",
     "text": [
      "3\n",
      "0\n"
     ]
    }
   ],
   "source": [
    "# program - 1 : \n",
    "a = 0 # global\n",
    "def my_function():\n",
    "    a = 3 # local\n",
    "    print(a)\n",
    "my_function() # 3\n",
    "print(a) # 0\n"
   ]
  },
  {
   "cell_type": "code",
   "execution_count": 73,
   "metadata": {},
   "outputs": [
    {
     "name": "stdout",
     "output_type": "stream",
     "text": [
      "3\n",
      "3\n"
     ]
    }
   ],
   "source": [
    "# program - 3 : \n",
    "a = 0 # global\n",
    "def my_function():\n",
    "    global a\n",
    "    a = 3\n",
    "    print(a)\n",
    "my_function() # 3\n",
    "print(a) # 3 \n"
   ]
  },
  {
   "cell_type": "code",
   "execution_count": 74,
   "metadata": {},
   "outputs": [
    {
     "ename": "UnboundLocalError",
     "evalue": "cannot access local variable 'a' where it is not associated with a value",
     "output_type": "error",
     "traceback": [
      "\u001b[1;31m---------------------------------------------------------------------------\u001b[0m",
      "\u001b[1;31mUnboundLocalError\u001b[0m                         Traceback (most recent call last)",
      "\u001b[1;32mc:\\Users\\lsgrm\\Desktop\\4th year\\7th sem resources\\MLFA Autumn 2023\\Lab\\Lab 2 Aug 10\\LAB 2 AUG 10\\Assign_1_Submission\\rough_oops.ipynb Cell 18\u001b[0m line \u001b[0;36m7\n\u001b[0;32m      <a href='vscode-notebook-cell:/c%3A/Users/lsgrm/Desktop/4th%20year/7th%20sem%20resources/MLFA%20Autumn%202023/Lab/Lab%202%20Aug%2010/LAB%202%20AUG%2010/Assign_1_Submission/rough_oops.ipynb#X30sZmlsZQ%3D%3D?line=4'>5</a>\u001b[0m     a \u001b[39m=\u001b[39m \u001b[39m3\u001b[39m\n\u001b[0;32m      <a href='vscode-notebook-cell:/c%3A/Users/lsgrm/Desktop/4th%20year/7th%20sem%20resources/MLFA%20Autumn%202023/Lab/Lab%202%20Aug%2010/LAB%202%20AUG%2010/Assign_1_Submission/rough_oops.ipynb#X30sZmlsZQ%3D%3D?line=5'>6</a>\u001b[0m     \u001b[39mprint\u001b[39m(a) \u001b[39m# 3\u001b[39;00m\n\u001b[1;32m----> <a href='vscode-notebook-cell:/c%3A/Users/lsgrm/Desktop/4th%20year/7th%20sem%20resources/MLFA%20Autumn%202023/Lab/Lab%202%20Aug%2010/LAB%202%20AUG%2010/Assign_1_Submission/rough_oops.ipynb#X30sZmlsZQ%3D%3D?line=6'>7</a>\u001b[0m my_function()\n",
      "\u001b[1;32mc:\\Users\\lsgrm\\Desktop\\4th year\\7th sem resources\\MLFA Autumn 2023\\Lab\\Lab 2 Aug 10\\LAB 2 AUG 10\\Assign_1_Submission\\rough_oops.ipynb Cell 18\u001b[0m line \u001b[0;36m4\n\u001b[0;32m      <a href='vscode-notebook-cell:/c%3A/Users/lsgrm/Desktop/4th%20year/7th%20sem%20resources/MLFA%20Autumn%202023/Lab/Lab%202%20Aug%2010/LAB%202%20AUG%2010/Assign_1_Submission/rough_oops.ipynb#X30sZmlsZQ%3D%3D?line=2'>3</a>\u001b[0m \u001b[39mdef\u001b[39;00m \u001b[39mmy_function\u001b[39m():\n\u001b[1;32m----> <a href='vscode-notebook-cell:/c%3A/Users/lsgrm/Desktop/4th%20year/7th%20sem%20resources/MLFA%20Autumn%202023/Lab/Lab%202%20Aug%2010/LAB%202%20AUG%2010/Assign_1_Submission/rough_oops.ipynb#X30sZmlsZQ%3D%3D?line=3'>4</a>\u001b[0m     \u001b[39mprint\u001b[39m(a) \u001b[39m# 0\u001b[39;00m\n\u001b[0;32m      <a href='vscode-notebook-cell:/c%3A/Users/lsgrm/Desktop/4th%20year/7th%20sem%20resources/MLFA%20Autumn%202023/Lab/Lab%202%20Aug%2010/LAB%202%20AUG%2010/Assign_1_Submission/rough_oops.ipynb#X30sZmlsZQ%3D%3D?line=4'>5</a>\u001b[0m     a \u001b[39m=\u001b[39m \u001b[39m3\u001b[39m\n\u001b[0;32m      <a href='vscode-notebook-cell:/c%3A/Users/lsgrm/Desktop/4th%20year/7th%20sem%20resources/MLFA%20Autumn%202023/Lab/Lab%202%20Aug%2010/LAB%202%20AUG%2010/Assign_1_Submission/rough_oops.ipynb#X30sZmlsZQ%3D%3D?line=5'>6</a>\u001b[0m     \u001b[39mprint\u001b[39m(a)\n",
      "\u001b[1;31mUnboundLocalError\u001b[0m: cannot access local variable 'a' where it is not associated with a value"
     ]
    }
   ],
   "source": [
    "##### ERROR ################# :\n",
    "# program - 4 : \n",
    "a = 0 # global\n",
    "def my_function():\n",
    "    print(a) # 0\n",
    "    a = 3\n",
    "    print(a) # 3\n",
    "my_function()\n"
   ]
  },
  {
   "cell_type": "code",
   "execution_count": 79,
   "metadata": {},
   "outputs": [
    {
     "name": "stdout",
     "output_type": "stream",
     "text": [
      "Tom's marks is 72.50%\n"
     ]
    }
   ],
   "source": [
    "NO_OF_DAYS_IN_WEEK = 7\n",
    "M_MARKS = 80\n",
    "tom_marks = 58\n",
    "print(\"Tom's marks is %.2f%%\" %((tom_marks/M_MARKS)*100)) # IMPORTANT"
   ]
  },
  {
   "cell_type": "code",
   "execution_count": 85,
   "metadata": {},
   "outputs": [
    {
     "name": "stdout",
     "output_type": "stream",
     "text": [
      "jANE Smith\n",
      "Jane Smith\n",
      "Jane smith\n"
     ]
    }
   ],
   "source": [
    "LOWER, UPPER, CAPITAL = 1,2,3\n",
    "name = \"jANE Smith\"\n",
    "name2 = 'Jane Smith'\n",
    "print(name)\n",
    "print(name2)\n",
    "print_style = CAPITAL\n",
    "if print_style == LOWER:\n",
    "    print(name.lower()) # jane smith\n",
    "elif print_style == UPPER:\n",
    "    print(name.upper())\n",
    "elif print_style == CAPITAL:\n",
    "    print(name.capitalize())"
   ]
  },
  {
   "cell_type": "code",
   "execution_count": 57,
   "metadata": {},
   "outputs": [
    {
     "name": "stdout",
     "output_type": "stream",
     "text": [
      "abcdefghijklmnopqrstuvwxyz\n",
      "3.141592653589793\n",
      "2.718281828459045\n"
     ]
    }
   ],
   "source": [
    "import string\n",
    "import math\n",
    "import re\n",
    "\n",
    "print(string.ascii_lowercase)\n",
    "print(math.pi)\n",
    "print(math.e)"
   ]
  },
  {
   "cell_type": "code",
   "execution_count": 58,
   "metadata": {},
   "outputs": [
    {
     "name": "stdout",
     "output_type": "stream",
     "text": [
      "3\n"
     ]
    }
   ],
   "source": [
    "total=0\n",
    "total+=3\n",
    "print(total)"
   ]
  },
  {
   "cell_type": "code",
   "execution_count": null,
   "metadata": {},
   "outputs": [],
   "source": [
    "correct_input = False\n",
    "while not correct_input :\n",
    "    try:\n",
    "        height = int(input(\"Enter your height: \"))\n",
    "        weight = int(input(\"Enter your weight: \"))\n",
    "    except ValueError:\n",
    "        print(\"Enter Valid Data\")\n",
    "    else:\n",
    "        correct_input = True\n"
   ]
  },
  {
   "cell_type": "code",
   "execution_count": 88,
   "metadata": {},
   "outputs": [
    {
     "name": "stdout",
     "output_type": "stream",
     "text": [
      "17.0\n",
      "8.0\n",
      "8.333333333333334\n"
     ]
    }
   ],
   "source": [
    "# IMPLICIT CONVERSION :::: \n",
    "result = 8.5*2\n",
    "print(result)\n",
    "result = 8.5+7 // 3 - 2.5\n",
    "print(result)\n",
    "result = 8.5+7/3 - 2.5\n",
    "print(result)"
   ]
  },
  {
   "cell_type": "code",
   "execution_count": 94,
   "metadata": {},
   "outputs": [
    {
     "name": "stdout",
     "output_type": "stream",
     "text": [
      "8\n",
      "6\n",
      "5\n",
      "6\n",
      "5\n",
      "6\n",
      "5\n",
      "6\n",
      "4\n"
     ]
    }
   ],
   "source": [
    "# EXPLICIT CONVERSION :::: \n",
    "i = int(8.55)\n",
    "print(i)\n",
    "import math\n",
    "print(math.ceil(5.834))\n",
    "print(math.floor(5.834))\n",
    "print(round(5.834)) # 6\n",
    "print(round(5.234)) # 5\n",
    "print(round(5.5)) # 6\n",
    "print(round(5.4))\n",
    "print(round(5.6))\n",
    "print(round(4.5)) # 4"
   ]
  },
  {
   "cell_type": "code",
   "execution_count": 98,
   "metadata": {},
   "outputs": [
    {
     "name": "stdout",
     "output_type": "stream",
     "text": [
      "34\n",
      "7\n",
      "34\n"
     ]
    }
   ],
   "source": [
    "#print(\"3\"+4) #error\n",
    "print(\"3%d\"%4) #34\n",
    "print(int(\"3\")+4) #7\n",
    "print(\"3\"+str(4)) #34"
   ]
  },
  {
   "cell_type": "code",
   "execution_count": 149,
   "metadata": {},
   "outputs": [
    {
     "name": "stdout",
     "output_type": "stream",
     "text": [
      "Lists have same value\n"
     ]
    }
   ],
   "source": [
    "my_flag = True\n",
    "bool('XYZ')\n",
    "bool(\"0\")\n",
    "a = [1,2,3]\n",
    "b = [1,2,3]\n",
    "if a == b:\n",
    "    print(\"Lists have same value\")\n",
    "if a is b:\n",
    "    print(\"AC\")"
   ]
  },
  {
   "cell_type": "code",
   "execution_count": 128,
   "metadata": {},
   "outputs": [
    {
     "name": "stdout",
     "output_type": "stream",
     "text": [
      "Dept : Math\n"
     ]
    }
   ],
   "source": [
    "D_NAME = {3 : \"Computer\",\n",
    "          1 : \"Math\",\n",
    "          2 : \"Civil\"\n",
    "          }\n",
    "course_code = 1\n",
    "if course_code in D_NAME :\n",
    "    print(\"Dept : %s\"%D_NAME[course_code])"
   ]
  },
  {
   "cell_type": "code",
   "execution_count": null,
   "metadata": {},
   "outputs": [],
   "source": []
  },
  {
   "cell_type": "code",
   "execution_count": 114,
   "metadata": {},
   "outputs": [
    {
     "name": "stdout",
     "output_type": "stream",
     "text": [
      "<function reverse at 0x0000023306A01E40>\n",
      "'ABC' reversed is 'CBA'\n"
     ]
    }
   ],
   "source": [
    "my_string = \"ABC\"\n",
    "my_action = \"r\"\n",
    "def reverse(string):\n",
    "    print(\"'%s' reversed is '%s'\"%(string, string[::-1]))\n",
    "def cap(string):\n",
    "    print(\"'%s' CAP is '%s',\"%(string, string.upper()) )\n",
    "\n",
    "ACTIONS = {\"r\":reverse,\n",
    "           \"c\":cap}\n",
    "\n",
    "my_function = ACTIONS[my_action]\n",
    "print(my_function)\n",
    "my_function(my_string)"
   ]
  },
  {
   "cell_type": "code",
   "execution_count": 126,
   "metadata": {},
   "outputs": [
    {
     "name": "stdout",
     "output_type": "stream",
     "text": [
      "['cat', 'dog', 'fish', 'bison']\n",
      "['dog', 'fish']\n",
      "['dog', 'fish']\n",
      "['fish', 'bison']\n",
      "['cat', 'dog']\n",
      "['cat', 'dog', 'fish', 'bison']\n",
      "['cat', 'fish']\n",
      "['cat', 'dog', 'fish', 'bison']\n",
      "['bison', 'fish', 'dog', 'cat']\n",
      "['cat']\n",
      "['cat', 'dog', 'fish', 'hamster']\n",
      "['cat', 'dog', 'fish', 'hamster', 'sal']\n",
      "['cat', 'dog', 'hamster', 'sal']\n"
     ]
    }
   ],
   "source": [
    "# LISTS ::\n",
    "animals = ['cat', 'dog', 'fish', 'bison']\n",
    "print(animals)\n",
    "print(animals[1:3]) # ['dog', 'fish']\n",
    "print(animals[1:-1]) # ['dog', 'fish']\n",
    "print(animals[2:])\n",
    "print(animals[:2])\n",
    "print(animals[:])\n",
    "print(animals[::2])\n",
    "print(animals[::1])\n",
    "print(animals[::-1])\n",
    "print(animals[::4])\n",
    "\n",
    "animals[3] = \"hamster\"\n",
    "print(animals[::1])\n",
    "animals.append(\"sal\")\n",
    "print(animals[::1])\n",
    "del animals[2]\n",
    "print(animals[::1])\n",
    "\n"
   ]
  },
  {
   "cell_type": "code",
   "execution_count": 133,
   "metadata": {},
   "outputs": [
    {
     "name": "stdout",
     "output_type": "stream",
     "text": [
      "yes\n",
      "True\n",
      "False\n",
      "False\n",
      "True\n"
     ]
    }
   ],
   "source": [
    "my_list = ['cat', 12, 35.6]\n",
    "numbers = [34,67,12,29]\n",
    "number = 67\n",
    "if number in numbers:\n",
    "    print(\"yes\")\n",
    "sum(numbers)\n",
    "print(any([0,0,0,1,0,0,]))\n",
    "print(all([0,0,0,1,0,0,]))\n",
    "print(any([0,0,0,0,0,0,]))\n",
    "print(all([2,3,4,5,6]))"
   ]
  },
  {
   "cell_type": "code",
   "execution_count": 137,
   "metadata": {},
   "outputs": [
    {
     "name": "stdout",
     "output_type": "stream",
     "text": [
      "[1, 2, 3, 4, 5, 5, 5, 6, 2, 12]\n",
      "4\n",
      "4\n",
      "[45, 1, 2, 3, 4, 5, 5, 5, 6, 2, 12]\n",
      "45\n",
      "[1, 2, 3, 4, 5, 5, 5, 6, 2, 12]\n",
      "12\n",
      "[1, 2, 3, 4, 5, 5, 5, 6, 2]\n",
      "None\n",
      "[1, 2, 3, 4, 5, 5, 6, 2]\n"
     ]
    }
   ],
   "source": [
    "nums = [1,2,3,4,5]\n",
    "nums.append(5)\n",
    "nums.count(5)\n",
    "nums.extend([5,6,2,12])\n",
    "print(nums)\n",
    "print(nums[3])\n",
    "print(nums.index(5)) # gets the index of element 5\n",
    "nums.insert(0, 45) # (index, value)\n",
    "print(nums)\n",
    "my_number = nums.pop(0) # pops at 0th index\n",
    "print(my_number)\n",
    "print(nums)\n",
    "\n",
    "my_number = nums.pop()\n",
    "print(my_number)\n",
    "print(nums)\n",
    "\n",
    "my_number = nums.remove(5) # removes the elemnt at index '5'\n",
    "print(my_number) # this return 'None'\n",
    "print(nums)\n",
    "\n",
    "\n"
   ]
  },
  {
   "cell_type": "code",
   "execution_count": null,
   "metadata": {},
   "outputs": [],
   "source": []
  },
  {
   "cell_type": "code",
   "execution_count": 140,
   "metadata": {},
   "outputs": [
    {
     "name": "stdout",
     "output_type": "stream",
     "text": [
      "[4, 3, 2, 1]\n",
      "['cat', 'dog', 'hamster', 'sal', 'rat', 'rat']\n",
      "['cat', 'dog', 'hamster', 'sal', 'rat', 'rat']\n",
      "['cat', 'dog', 'hamster', 'sal', 'rat']\n",
      "['cat', 'dog', 'hamster', 'sal', 'rat', 'rat', 'horse']\n",
      "['cat', 'dog', 'hamster', 'sal', 'rat', 'rat', 'horse']\n"
     ]
    }
   ],
   "source": [
    "nums = [3,2,4,1]\n",
    "nums.sort()\n",
    "nums.reverse()\n",
    "print(nums)\n",
    "\n",
    "pets_1 = animals # creates a reference to animals\n",
    "pets_2 = list(animals) # creates a copy for animals \n",
    "\n",
    "animals.append('rat')\n",
    "print(animals)\n",
    "print(pets_1)\n",
    "print(pets_2)\n",
    "\n",
    "pets_1.append('horse')\n",
    "print(animals)\n",
    "print(pets_1)\n"
   ]
  },
  {
   "cell_type": "code",
   "execution_count": 141,
   "metadata": {},
   "outputs": [
    {
     "name": "stdout",
     "output_type": "stream",
     "text": [
      "[1, 2, 3, 4, 5, 6]\n",
      "[1, 2, 3, 1, 2, 3, 1, 2, 3]\n"
     ]
    }
   ],
   "source": [
    "print([1,2,3] + [4,5,6])\n",
    "print([1,2,3]*3)\n"
   ]
  },
  {
   "cell_type": "code",
   "execution_count": 145,
   "metadata": {},
   "outputs": [
    {
     "name": "stdout",
     "output_type": "stream",
     "text": [
      "[[1, 2, 3], [4, 5, 6], [7, 8, 9], [10, 11, 12]]\n",
      "1\n",
      "2\n",
      "4\n",
      "1\n",
      "3\n",
      "4\n",
      "8\n"
     ]
    }
   ],
   "source": [
    "# 2- D Values\n",
    "my_table= [\n",
    "    [1,2,3],\n",
    "    [4,5,6],\n",
    "    [7,8,9],\n",
    "    [10,11,12]\n",
    "]\n",
    "\n",
    "print(my_table)\n",
    "print(my_table[0][0])\n",
    "print(my_table[0][1])\n",
    "print(my_table[1][0])\n",
    "\n",
    "my_3d_list = [\n",
    "    [[1,2],[3,4]],\n",
    "    [[5,6],[7,8]]\n",
    "]\n",
    "print(my_3d_list[0][0][0])\n",
    "print(my_3d_list[0][1][0])\n",
    "print(my_3d_list[0][1][1])\n",
    "print(my_3d_list[1][1][1])"
   ]
  },
  {
   "cell_type": "code",
   "execution_count": 146,
   "metadata": {},
   "outputs": [
    {
     "name": "stdout",
     "output_type": "stream",
     "text": [
      "[0, 0, 0, 0, 0, 0, 0, 0, 0, 0, 0, 0, 0, 0, 0, 0, 0, 0, 0, 0, 0, 0, 0, 0, 0, 0, 0, 0, 0, 0, 0, 0, 0, 0, 0, 0, 0, 0, 0, 0, 0, 0, 0, 0, 0, 0, 0, 0, 0, 0, 0, 0, 0, 0, 0, 0, 0, 0, 0, 0, 0, 0, 0, 0, 0, 0, 0, 0, 0, 0, 0, 0, 0, 0, 0, 0, 0, 0, 0, 0, 0, 0, 0, 0, 0, 0, 0, 0, 0, 0, 0, 0, 0, 0, 0, 0, 0, 0, 0, 0]\n"
     ]
    }
   ],
   "source": [
    "my_long_list = [0]*100\n",
    "print(my_long_list)\n"
   ]
  },
  {
   "cell_type": "code",
   "execution_count": 148,
   "metadata": {},
   "outputs": [
    {
     "name": "stdout",
     "output_type": "stream",
     "text": [
      "1\n",
      "2\n"
     ]
    }
   ],
   "source": [
    "### TUPLES ARE SIMILAR TO LIST, BUT THEY ARE IMMUTABLE\n",
    "\n",
    "week_days = ('Mon', 'Tue', 'Wed', 'Thu', 'Fri', 'Sat', 'Sun')\n",
    "print(week_days.count('Mon'))\n",
    "print(week_days.index('Wed'))\n",
    "# week_days.append('MyDay') # ERROR\n",
    "# week_days[0] = 'MyDay' # ERROR"
   ]
  },
  {
   "cell_type": "code",
   "execution_count": 153,
   "metadata": {},
   "outputs": [
    {
     "name": "stdout",
     "output_type": "stream",
     "text": [
      "3\n"
     ]
    }
   ],
   "source": [
    "L = [(1),(2,3),(3,4,5)]\n",
    "T = L[1]\n",
    "print(T[1])"
   ]
  },
  {
   "cell_type": "code",
   "execution_count": 1,
   "metadata": {},
   "outputs": [
    {
     "name": "stdout",
     "output_type": "stream",
     "text": [
      "abc\n",
      "ab\n",
      "ac\n",
      "a\n",
      "bc\n",
      "b\n",
      "c\n",
      "\n"
     ]
    }
   ],
   "source": []
  }
 ],
 "metadata": {
  "kernelspec": {
   "display_name": "assgn1_env",
   "language": "python",
   "name": "python3"
  },
  "language_info": {
   "codemirror_mode": {
    "name": "ipython",
    "version": 3
   },
   "file_extension": ".py",
   "mimetype": "text/x-python",
   "name": "python",
   "nbconvert_exporter": "python",
   "pygments_lexer": "ipython3",
   "version": "3.11.3"
  },
  "orig_nbformat": 4
 },
 "nbformat": 4,
 "nbformat_minor": 2
}
