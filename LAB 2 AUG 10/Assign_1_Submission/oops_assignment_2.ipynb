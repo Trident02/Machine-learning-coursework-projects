{
 "cells": [
  {
   "cell_type": "code",
   "execution_count": 5,
   "metadata": {},
   "outputs": [
    {
     "name": "stdout",
     "output_type": "stream",
     "text": [
      "There exists two elements in the sequence whose sum is exactly 16\n"
     ]
    }
   ],
   "source": [
    "def has_pair_with_sum(sequence, target_sum):\n",
    "    seen_numbers = set()\n",
    "    for number in sequence:\n",
    "        if target_sum - number in seen_numbers:\n",
    "            return True\n",
    "        seen_numbers.add(number)\n",
    "    return False\n",
    "\n",
    "sequence = [int(x) for x in input(\"Enter a sequence of numbers separated by spaces: \").split()]\n",
    "target_sum = int(input(\"Enter the target sum: \"))\n",
    "\n",
    "if has_pair_with_sum(sequence, target_sum):\n",
    "    print(\"There exists two elements in the sequence whose sum is exactly\", target_sum)\n",
    "else:\n",
    "    print(\"There are no two elements in the sequence whose sum is exactly\", target_sum)\n"
   ]
  },
  {
   "cell_type": "code",
   "execution_count": 1,
   "metadata": {},
   "outputs": [
    {
     "name": "stdout",
     "output_type": "stream",
     "text": [
      "abc\n",
      "ab\n",
      "ac\n",
      "a\n",
      "bc\n",
      "b\n",
      "c\n",
      "\n"
     ]
    }
   ],
   "source": [
    "## Q2 : Part - a :\n",
    "\n",
    "def powerSet(string, index, curr):\n",
    "\n",
    "\t# string : Stores input string\n",
    "\t# curr : Stores current subset\n",
    "\t# index : Index in current subset, curr\n",
    "\tif index == len(string):\n",
    "\t\tprint(curr)\n",
    "\t\treturn\n",
    "\n",
    "\tpowerSet(string, index + 1,\n",
    "\t\t\tcurr + string[index])\n",
    "\tpowerSet(string, index + 1, curr)\n",
    "\n",
    "\n",
    "# Driver Code\n",
    "if __name__ == \"__main__\":\n",
    "\n",
    "\ts1 = \"abc\"\n",
    "\tindex = 0\n",
    "\tcurr = \"\"\n",
    "\tpowerSet(s1, index, curr)\n",
    "\n",
    "\n",
    "str = \"ABC\";  \n",
    "n = len(str);  \n",
    "#For holding all the formed substrings  \n",
    "arr = [];  \n",
    "    \n",
    "#This loop maintains the starting character  \n",
    "for i in range(0,n):  \n",
    "    #This loop will add a character to start character one by one till the end is reached  \n",
    "    for j in range(i,n):  \n",
    "        arr.append(str[i:(j+1)]);  \n",
    "    \n",
    "#Prints all the subset  \n",
    "print(\"All subsets for given string are: \");  \n",
    "for i in arr:  \n",
    "    print(i);  \n",
    "\n",
    "\n"
   ]
  },
  {
   "cell_type": "code",
   "execution_count": 3,
   "metadata": {},
   "outputs": [
    {
     "name": "stdout",
     "output_type": "stream",
     "text": [
      "All subsets for given string are: \n",
      "A\n",
      "AB\n",
      "ABC\n",
      "B\n",
      "BC\n",
      "C\n"
     ]
    }
   ],
   "source": [
    "## Q2 Part - b : \n",
    "str = \"ABC\";  \n",
    "n = len(str);  \n",
    "#For holding all the formed substrings  \n",
    "arr = [];  \n",
    "    \n",
    "#This loop maintains the starting character  \n",
    "for i in range(0,n):  \n",
    "    #This loop will add a character to start character one by one till the end is reached  \n",
    "    for j in range(i,n):  \n",
    "        arr.append(str[i:(j+1)]);  \n",
    "    \n",
    "#Prints all the subset  \n",
    "print(\"All subsets for given string are: \");  \n",
    "for i in arr:  \n",
    "    print(i);  "
   ]
  },
  {
   "cell_type": "code",
   "execution_count": 11,
   "metadata": {},
   "outputs": [
    {
     "name": "stdout",
     "output_type": "stream",
     "text": [
      "Subsets using recursion:\n",
      "ABC\n",
      "AB\n",
      "AC\n",
      "A\n",
      "BC\n",
      "B\n",
      "C\n",
      "\n",
      "Subsets using iteration:\n",
      "\n",
      "A\n",
      "B\n",
      "AB\n",
      "C\n",
      "AC\n",
      "BC\n",
      "ABC\n"
     ]
    }
   ],
   "source": [
    "# Recursion\n",
    "def subSets_recursive(string, index, current):\n",
    "    if index == len(string):\n",
    "        print(current)\n",
    "        return\n",
    "    subSets_recursive(string, index + 1, current + string[index])\n",
    "    subSets_recursive(string, index + 1, current)\n",
    "\n",
    "# Iterative version\n",
    "def subSets_iterative(string):\n",
    "    result = [\"\"]\n",
    "    for char in string:\n",
    "        # Store the length of result before we start adding new subsets\n",
    "        n = len(result)\n",
    "        for i in range(n):\n",
    "            # For each existing subset, add a new subset by concatenating the current character\n",
    "            subset = result[i] + char\n",
    "            result.append(subset)\n",
    "    print(\"\\n\".join(result))\n",
    "\n",
    "s1 = input(\"Enter the String : \")\n",
    "index = 0\n",
    "current = \"\"\n",
    "print(\"Subsets using recursion:\")\n",
    "subSets_recursive(s1, index, current)\n",
    "\n",
    "print(\"Subsets using iteration:\")\n",
    "subSets_iterative(s1)\n",
    "  \n"
   ]
  },
  {
   "cell_type": "code",
   "execution_count": 8,
   "metadata": {},
   "outputs": [
    {
     "name": "stdout",
     "output_type": "stream",
     "text": [
      "Subsets using recursion:\n",
      "abc\n",
      "ab\n",
      "ac\n",
      "a\n",
      "bc\n",
      "b\n",
      "c\n",
      "\n",
      "Subsets using iteration:\n",
      "\n",
      "a\n",
      "b\n",
      "ba\n",
      "c\n",
      "ca\n",
      "cb\n",
      "cba\n"
     ]
    }
   ],
   "source": []
  },
  {
   "cell_type": "code",
   "execution_count": 4,
   "metadata": {},
   "outputs": [
    {
     "name": "stdout",
     "output_type": "stream",
     "text": [
      "1\n",
      "3\n",
      "5\n",
      "7\n",
      "9\n",
      "[1, 3, 5, 7, 9]\n"
     ]
    }
   ],
   "source": [
    "## Q-3 :\n",
    "array = [1, 2, 3, 4, 5, 6, 7, 8, 9]\n",
    "\n",
    "# Using a for loop\n",
    "for i in range(0, len(array), 2):\n",
    "    print(array[i])\n",
    "\n",
    "# Using list comprehension\n",
    "even_positions = [array[i] for i in range(0, len(array), 2)]\n",
    "print(even_positions)\n"
   ]
  },
  {
   "cell_type": "code",
   "execution_count": null,
   "metadata": {},
   "outputs": [],
   "source": [
    "## Q3 : \n",
    "import math\n",
    "\n",
    "x, y = 0, 0\n",
    "\n",
    "while True:\n",
    "    step = input(\"Type in UP/DOWN/LEFT/RIGHT #step number: \")\n",
    "\n",
    "    if step == \"\":\n",
    "        break\n",
    "\n",
    "    else:\n",
    "        step = step.split(\" \")\n",
    "\n",
    "        if step[0] == \"UP\":\n",
    "            y = y + int(step[1])\n",
    "        elif step[0] == \"DOWN\":\n",
    "            y = y - int(step[1])\n",
    "        elif step[0] == \"LEFT\":\n",
    "            x = x - int(step[1])\n",
    "        elif step[0] == \"RIGHT\":\n",
    "            x = x + int(step[1])\n",
    "\n",
    "c = math.sqrt(x**2 + y**2)\n",
    "\n",
    "print(\"Distance:\", c)"
   ]
  },
  {
   "cell_type": "code",
   "execution_count": 12,
   "metadata": {},
   "outputs": [
    {
     "name": "stdout",
     "output_type": "stream",
     "text": [
      "Distance from starting point: 2.8284271247461903\n"
     ]
    }
   ],
   "source": [
    "## Q-3 ANS : \n",
    "def distance_from_start(movements):\n",
    "    x, y = 0, 0\n",
    "    for direction, steps in movements:\n",
    "        if direction == 'N':\n",
    "            y += steps\n",
    "        elif direction == 'S':\n",
    "            y -= steps\n",
    "        elif direction == 'E':\n",
    "            x += steps\n",
    "        elif direction == 'W':\n",
    "            x -= steps\n",
    "    return ((x ** 2) + (y ** 2)) ** 0.5\n",
    "\n",
    "\n",
    "movements = []\n",
    "while True:\n",
    "    direction = input(\"Enter direction (N/S/E/W) or 'done' to finish: \")\n",
    "    if direction == 'done':\n",
    "        break\n",
    "    steps = int(input(\"Enter steps: \"))\n",
    "    movements.append((direction, steps))\n",
    "\n",
    "distance = distance_from_start(movements)\n",
    "print(f\"Distance from starting point: {distance}\")\n",
    "\n",
    "\n"
   ]
  },
  {
   "cell_type": "code",
   "execution_count": 15,
   "metadata": {},
   "outputs": [
    {
     "name": "stdout",
     "output_type": "stream",
     "text": [
      "Element is present at index 3\n"
     ]
    }
   ],
   "source": [
    "def binary_search(arr, x):\n",
    "    low = 0\n",
    "    high = len(arr) - 1\n",
    "    mid = 0\n",
    " \n",
    "    while low <= high:\n",
    "        mid = (high + low) // 2\n",
    " \n",
    "        # If x is greater, ignore the left half\n",
    "        if arr[mid] < x:\n",
    "            low = mid + 1\n",
    " \n",
    "        # If x is smaller, ignore the right half\n",
    "        elif arr[mid] > x:\n",
    "            high = mid - 1\n",
    " \n",
    "        # x is present at mid\n",
    "        else:\n",
    "            return mid\n",
    " \n",
    "    # If we reach here, the element was not present\n",
    "    return -1\n",
    "\n",
    "# input(\"Enter a sorted list of integers separated by spaces: \") takes a string input from the user.\n",
    "# .split() splits the input string into a list of strings based on whitespace.\n",
    "# map(int, ...) converts each string in the list to an integer.\n",
    "# list(...) converts the map object back to a list.\n",
    "arr = list(map(int, input(\"Enter a sorted list of integers separated by spaces: \").split()))\n",
    "x = int(input(\"Enter the element to be searched: \"))\n",
    "result = binary_search(arr, x)\n",
    "\n",
    "if result != -1:\n",
    "    print(\"Element is present at index %d\" %result)\n",
    "else:\n",
    "    print(\"Element is not present in the list\")\n"
   ]
  },
  {
   "cell_type": "code",
   "execution_count": 2,
   "metadata": {},
   "outputs": [
    {
     "name": "stdout",
     "output_type": "stream",
     "text": [
      "Length of Longest Common Subsequence (LCS) is 0\n"
     ]
    }
   ],
   "source": [
    "# Define a recursive function to find the length of the Longest Common Subsequence (LCS) of two strings\n",
    "def lcs(s1, s2, m, n):\n",
    "    if m == 0 or n == 0:  # Base case: if either string is empty, LCS length is 0\n",
    "        return 0\n",
    "    elif s1[m-1] == s2[n-1]:  # If last characters of both strings match, add 1 to LCS of remaining strings\n",
    "        return 1 + lcs(s1, s2, m-1, n-1)\n",
    "    else:  # If last characters do not match, take maximum of LCS without last character of first string or second string\n",
    "        return max(lcs(s1, s2, m, n-1), lcs(s1, s2, m-1, n))\n",
    "\n",
    "# Input two strings from the user\n",
    "s1 = input(\"Enter the first string: \")\n",
    "s2 = input(\"Enter the second string: \")\n",
    "\n",
    "# Call the LCS function and print the length of the LCS\n",
    "print (\"Length of Longest Common Subsequence (LCS) is %d\" %lcs(s1, s2, len(s1), len(s2)))\n"
   ]
  },
  {
   "cell_type": "code",
   "execution_count": 3,
   "metadata": {},
   "outputs": [
    {
     "name": "stdout",
     "output_type": "stream",
     "text": [
      "Spiral order of the matrix:\n",
      "1 2 3 4 5 6\n",
      "12\n",
      "18\n",
      "17 16 15 14 13\n",
      "7\n",
      "8 9 10 11\n"
     ]
    }
   ],
   "source": [
    "def take_matrix_input():\n",
    "    rows = int(input(\"Enter the number of rows in the matrix: \"))\n",
    "    cols = int(input(\"Enter the number of columns in the matrix: \"))\n",
    "    matrix = []\n",
    "    for i in range(rows):\n",
    "        row = list(map(int, input(\"Enter row {} (space separated values): \".format(i + 1)).split()))\n",
    "        matrix.append(row)\n",
    "    return matrix\n",
    "\n",
    "def print_spiral_form(matrix):\n",
    "    result = []\n",
    "    while matrix:\n",
    "        result.append(*matrix.pop(0))     # Print the first row and remove it from the matrix\n",
    "        if matrix and matrix[0]:  # If there are remaining rows and columns\n",
    "            for row in matrix:\n",
    "                result.append(row.pop())  # Print the last element of each remaining row\n",
    "            if matrix[-1]:        # If there is a remaining last row\n",
    "                result.append(*matrix.pop()[::-1])  # Print it in reverse order\n",
    "            for row in matrix[::-1]:        # For each remaining row in reverse order\n",
    "                if row:                # If there are remaining elements in the row\n",
    "                    result.append(row.pop(0))  # Print the first element\n",
    "    print(result)\n",
    "\n",
    "\n",
    "matrix = take_matrix_input()\n",
    "print(\"Spiral order of the matrix:\")\n",
    "print_spiral_form(matrix)\n"
   ]
  }
 ],
 "metadata": {
  "kernelspec": {
   "display_name": "assgn1_env",
   "language": "python",
   "name": "python3"
  },
  "language_info": {
   "codemirror_mode": {
    "name": "ipython",
    "version": 3
   },
   "file_extension": ".py",
   "mimetype": "text/x-python",
   "name": "python",
   "nbconvert_exporter": "python",
   "pygments_lexer": "ipython3",
   "version": "3.11.3"
  }
 },
 "nbformat": 4,
 "nbformat_minor": 2
}
