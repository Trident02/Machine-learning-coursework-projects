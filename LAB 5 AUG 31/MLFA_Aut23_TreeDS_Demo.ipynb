{
  "cells": [
    {
      "cell_type": "markdown",
      "metadata": {
        "id": "x8nt4P-JG_BV"
      },
      "source": [
        "Import necessary modules/libraries"
      ]
    },
    {
      "cell_type": "code",
      "execution_count": 1,
      "metadata": {
        "id": "VhmcCrx-qjXo"
      },
      "outputs": [],
      "source": [
        "import numpy as np\n",
        "from sklearn.model_selection import train_test_split\n",
        "from sklearn import datasets"
      ]
    },
    {
      "cell_type": "markdown",
      "metadata": {
        "id": "8w9LXvhbHD1r"
      },
      "source": [
        "Define node class, along with necessary attributes and functions"
      ]
    },
    {
      "cell_type": "code",
      "execution_count": 3,
      "metadata": {
        "id": "j4uORv0ezgcU"
      },
      "outputs": [],
      "source": [
        "class TreeNode:\n",
        "  def __init__(self,X,y,thresh,feature):\n",
        "    self.X= X #storing the input data at a node\n",
        "    self.y= y #storing the class labels\n",
        "    self.thresh=thresh #storing the threshold for splitting\n",
        "    self.feature=feature #storing the feature used for splitting\n",
        "    self.children= [] #list of children nodes\n",
        "    self.parent= None #storing the parent node\n",
        "\n",
        "  def add_child(self, child): #adding a child node\n",
        "    child.parent = self #setting the node as child's parent\n",
        "    self.children.append(child) #storing the child node in the list of children nodes\n",
        "\n",
        "  def get_level(self): #get the depth of a node\n",
        "    level = 0\n",
        "    p = self.parent\n",
        "    while p:\n",
        "      level += 1\n",
        "      p = p.parent\n",
        "\n",
        "    return level\n",
        "\n",
        "  def print_tree(self): #displaying the tree formed hierarchically\n",
        "    spaces = ' ' * self.get_level() * 3\n",
        "    prefix = spaces + \"|__\" if self.parent else \"\" #using indentation and |_ as representation of depth & parent-child relation\n",
        "    print(prefix + \"feature_idx: \"+ str(self.feature))\n",
        "    if self.children:\n",
        "      for child in self.children:\n",
        "        child.print_tree() #recursively use the method for displaying the subtrees"
      ]
    },
    {
      "cell_type": "markdown",
      "metadata": {
        "id": "I4htbeA4IS8q"
      },
      "source": [
        "Creating a binary classification dataset with 100 data-points and 10 features"
      ]
    },
    {
      "cell_type": "code",
      "execution_count": 4,
      "metadata": {
        "id": "2uTr_ZmN3h8M"
      },
      "outputs": [],
      "source": [
        "num_feats=10\n",
        "X,y= datasets.make_classification(n_samples=100, n_features=num_feats, n_classes=2, random_state=25)"
      ]
    },
    {
      "cell_type": "code",
      "execution_count": 5,
      "metadata": {
        "id": "ySaYoRsu-_N9"
      },
      "outputs": [],
      "source": [
        "root= TreeNode(X,y,-1,-1) #root node"
      ]
    },
    {
      "cell_type": "markdown",
      "metadata": {
        "id": "DPVUajSVJeAb"
      },
      "source": [
        "Method to build a tree using the above dataset"
      ]
    },
    {
      "cell_type": "code",
      "execution_count": 6,
      "metadata": {
        "id": "MWXKdwfK4qUu"
      },
      "outputs": [],
      "source": [
        "def build_tree(node,depth):\n",
        "    sel_feature= np.random.randint(0,num_feats) #select a random feature index to perform splitting\n",
        "\n",
        "    depth-=1 #update the depth\n",
        "    #print(len(node.X),depth)\n",
        "\n",
        "    if(depth>0 and len(node.X)>1): #check if the depth criterion is satisfied and node is not a leaf node (>1 samples)\n",
        "      thresh= (np.min(X[:,sel_feature])+np.max(X[:,sel_feature]))/2\n",
        "      #print(thresh,len(X[X[:,sel_feature]<thresh]))\n",
        "      left_child=TreeNode(X[X[:,sel_feature]<thresh],y[X[:,sel_feature]<thresh],thresh,sel_feature)\n",
        "      right_child=TreeNode(X[X[:,sel_feature]>=thresh],y[X[:,sel_feature]>=thresh],thresh,sel_feature)\n",
        "      node.add_child(left_child)\n",
        "      node.add_child(right_child)\n",
        "      build_tree(left_child,depth)\n",
        "      build_tree(right_child,depth)\n",
        "\n",
        "    else:\n",
        "      return\n"
      ]
    },
    {
      "cell_type": "code",
      "execution_count": 7,
      "metadata": {
        "id": "r_tpJ6XiBrGH"
      },
      "outputs": [],
      "source": [
        "build_tree(root,5) #build a tree of depth 5 max"
      ]
    },
    {
      "cell_type": "code",
      "execution_count": 8,
      "metadata": {
        "colab": {
          "base_uri": "https://localhost:8080/"
        },
        "id": "I-_xegTlBx3y",
        "outputId": "b6cce92d-1624-4a0b-dc87-961cf95c24ad"
      },
      "outputs": [
        {
          "name": "stdout",
          "output_type": "stream",
          "text": [
            "feature_idx: -1\n",
            "   |__feature_idx: 2\n",
            "      |__feature_idx: 3\n",
            "         |__feature_idx: 3\n",
            "            |__feature_idx: 7\n",
            "            |__feature_idx: 7\n",
            "         |__feature_idx: 3\n",
            "            |__feature_idx: 8\n",
            "            |__feature_idx: 8\n",
            "      |__feature_idx: 3\n",
            "         |__feature_idx: 2\n",
            "            |__feature_idx: 5\n",
            "            |__feature_idx: 5\n",
            "         |__feature_idx: 2\n",
            "            |__feature_idx: 7\n",
            "            |__feature_idx: 7\n",
            "   |__feature_idx: 2\n",
            "      |__feature_idx: 0\n",
            "         |__feature_idx: 8\n",
            "            |__feature_idx: 9\n",
            "            |__feature_idx: 9\n",
            "         |__feature_idx: 8\n",
            "            |__feature_idx: 8\n",
            "            |__feature_idx: 8\n",
            "      |__feature_idx: 0\n",
            "         |__feature_idx: 8\n",
            "            |__feature_idx: 2\n",
            "            |__feature_idx: 2\n",
            "         |__feature_idx: 8\n",
            "            |__feature_idx: 6\n",
            "            |__feature_idx: 6\n"
          ]
        }
      ],
      "source": [
        "root.print_tree()"
      ]
    }
  ],
  "metadata": {
    "colab": {
      "provenance": []
    },
    "kernelspec": {
      "display_name": "Python 3",
      "name": "python3"
    },
    "language_info": {
      "codemirror_mode": {
        "name": "ipython",
        "version": 3
      },
      "file_extension": ".py",
      "mimetype": "text/x-python",
      "name": "python",
      "nbconvert_exporter": "python",
      "pygments_lexer": "ipython3",
      "version": "3.11.3"
    }
  },
  "nbformat": 4,
  "nbformat_minor": 0
}
